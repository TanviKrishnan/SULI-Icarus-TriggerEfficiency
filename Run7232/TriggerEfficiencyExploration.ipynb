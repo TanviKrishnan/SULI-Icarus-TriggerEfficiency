{
 "cells": [
  {
   "cell_type": "code",
   "execution_count": 1,
   "id": "05a5a230",
   "metadata": {},
   "outputs": [
    {
     "name": "stdout",
     "output_type": "stream",
     "text": [
      "Welcome to JupyROOT 6.26/04\n"
     ]
    }
   ],
   "source": [
    "import ROOT"
   ]
  },
  {
   "cell_type": "code",
   "execution_count": 16,
   "id": "4a5513be",
   "metadata": {},
   "outputs": [],
   "source": [
    "import pandas\n",
    "import numpy as np\n",
    "import matplotlib.pyplot as plt\n",
    "import numpy as np\n",
    "import scipy\n",
    "from scipy.stats import beta"
   ]
  },
  {
   "cell_type": "code",
   "execution_count": 526,
   "id": "1deb283d",
   "metadata": {},
   "outputs": [],
   "source": [
    "d = ROOT.RDataFrame(\"TimedTrackStorage\", \"run7232_merged_energyest.root\")"
   ]
  },
  {
   "cell_type": "code",
   "execution_count": 528,
   "id": "9e17a9d8",
   "metadata": {},
   "outputs": [],
   "source": [
    "import uproot\n",
    "file = uproot.open(\"run7232_merged_energyest.root\")"
   ]
  },
  {
   "cell_type": "markdown",
   "id": "15ee999b",
   "metadata": {},
   "source": [
    "# Functions"
   ]
  },
  {
   "cell_type": "code",
   "execution_count": 942,
   "id": "d93d8ffc",
   "metadata": {},
   "outputs": [],
   "source": [
    "# renames columns from default name given by uproot\n",
    "def colRename(col_name): \n",
    "    col_name = str(col_name)\n",
    "    col_name = col_name.replace(\"'\", \"\")\n",
    "    col_name = col_name.replace(\"(\", \"\")\n",
    "    col_name = col_name.replace(\")\", \"\")\n",
    "    if \".\" in col_name:\n",
    "        col_name = col_name.split(\".\", 1)[1]\n",
    "    x = col_name.split(\", \")\n",
    "    if x[1]=='':\n",
    "        return x[0]\n",
    "    else:\n",
    "        return x[0] + \"_\" + x[1]"
   ]
  },
  {
   "cell_type": "code",
   "execution_count": 948,
   "id": "402da4e0",
   "metadata": {},
   "outputs": [],
   "source": [
    "# \"exact\" Clopper-Pearson interval inspired by TEfficiency documentation\n",
    "\n",
    "# gets lower errorbar endpoint\n",
    "def binom_int_low(num,den, confint=conf):\n",
    "    quant = (1 - confint)/ 2.\n",
    "    low = beta.ppf(quant, num, den - num + 1)\n",
    "    return np.nan_to_num(low)\n",
    "\n",
    "# gets upper errorbar endpoint\n",
    "def binom_int_high(num,den, confint=conf):\n",
    "    quant = (1 - confint)/ 2.\n",
    "    high = beta.ppf(1 - quant, num + 1, den - num)\n",
    "    return np.where(np.isnan(high), 1, high)"
   ]
  },
  {
   "cell_type": "markdown",
   "id": "42e725ba",
   "metadata": {},
   "source": [
    "# Load Data"
   ]
  },
  {
   "cell_type": "code",
   "execution_count": 1019,
   "id": "bb4a301f",
   "metadata": {},
   "outputs": [],
   "source": [
    "# West cryostat dataset\n",
    "treeW = file[\"TimedTrackStorageW\"]\n",
    "df_W = treeW.arrays(library=\"pd\")\n",
    "df_W = df_W.rename(colRename, axis='columns')\n",
    "# East cryostat dataset\n",
    "treeE = file[\"TimedTrackStorageE\"]\n",
    "df_E = treeE.arrays(library=\"pd\")\n",
    "df_E = df_E.rename(colRename, axis='columns')\n",
    "\n",
    "pandas.set_option('display.max_columns', None)"
   ]
  },
  {
   "cell_type": "markdown",
   "id": "11c89cb9",
   "metadata": {},
   "source": [
    "# Efficiency Plots"
   ]
  },
  {
   "cell_type": "code",
   "execution_count": 1191,
   "id": "20286afb",
   "metadata": {
    "scrolled": false
   },
   "outputs": [],
   "source": [
    "cryostat = 'W'\n",
    "df = df_W if cryostat=='W' else df_E\n",
    "\n",
    "# all rows with subentry = 0 from original df\n",
    "# gets rid of double counting from flashes\n",
    "df_u = df.xs(0, level='subentry')"
   ]
  },
  {
   "cell_type": "code",
   "execution_count": 1192,
   "id": "45f7511d",
   "metadata": {},
   "outputs": [],
   "source": [
    "# trigger categories + corresponding colors for plot\n",
    "type = [\"M1\", \"S3\", \"S5\", \"S8\", \"S10\", \"S15\"]\n",
    "color = ['red', 'orange', 'yellow', 'green', 'blue', 'purple']\n",
    "#type = [\"S3\", \"S5\", \"S10\"]"
   ]
  },
  {
   "cell_type": "code",
   "execution_count": 1193,
   "id": "f701f7b7",
   "metadata": {
    "scrolled": true
   },
   "outputs": [],
   "source": [
    "# VALUES TO SET BEFORE RUN\n",
    "# desired confidence interval\n",
    "conf = 0.6827\n",
    "\n",
    "# cutoff ratio, all selected values must be more extreme than cutoff\n",
    "cutoff = 0.75"
   ]
  },
  {
   "cell_type": "code",
   "execution_count": 1194,
   "id": "521949ab",
   "metadata": {},
   "outputs": [
    {
     "name": "stdout",
     "output_type": "stream",
     "text": [
      "28357 2311 2301\n"
     ]
    }
   ],
   "source": [
    "# add ratio columns\n",
    "var1 = \"start_x\"\n",
    "var2 = \"end_x\"\n",
    "\n",
    "# only count events within the interval where data is being collected (otherwise the trigger will obviously not fire)\n",
    "df_time = df_u[df_u[\"t0\"].between(-55, 75)]\n",
    "\n",
    "x_start = df_time[var1].to_numpy()\n",
    "x_end = df_time[var2].to_numpy()\n",
    "\n",
    "# define east and west x-positions\n",
    "df_time.insert(49, 'x_w', np.maximum(x_start, x_end))\n",
    "df_time.insert(50,'x_e', np.minimum(x_start, x_end))\n",
    "\n",
    "x_cathode = 210 if cryostat=='W' else -210\n",
    "\n",
    "# define x-distance from cathode of east and west x-positions\n",
    "# if tracks don't quite reach the cathode, change one x-coordinate to be at the cathode\n",
    "df_time.insert(51, 'dx_w', np.maximum(df_time['x_w'] - x_cathode, 0))\n",
    "df_time.insert(52, 'dx_e', np.maximum(x_cathode - df_time['x_e'], 0))\n",
    "\n",
    "df_time.insert(53,'ratio_x', (df_time['dx_w'] - df_time['dx_e']) / (df_time['dx_e'] + df_time['dx_w']))\n",
    "\n",
    "var = 'ratio_x'\n",
    "\n",
    "\n",
    "df_west = df_time[df_time['ratio_x'] > cutoff]\n",
    "df_east = df_time[df_time['ratio_x'] < -1*cutoff]\n",
    "print(len(df_time), len(df_east), len(df_west))"
   ]
  },
  {
   "cell_type": "code",
   "execution_count": 1205,
   "id": "6e9b194c",
   "metadata": {},
   "outputs": [],
   "source": [
    "# VALUES TO SET BEFORE RUN\n",
    "# choose df_time, df_east, or df_west (if east or west select desired cutoff ratio above)\n",
    "df_c = df_time\n",
    "\n",
    "var = 'length'\n",
    "var_label = \"Track length\"\n",
    "var_units = \"(cm)\" # this should be in parenthesis\n",
    "bin_size=5"
   ]
  },
  {
   "cell_type": "code",
   "execution_count": 1206,
   "id": "3f0462eb",
   "metadata": {
    "scrolled": false
   },
   "outputs": [
    {
     "data": {
      "image/png": "[encoded data removed]",
      "text/plain": [
       "<Figure size 576x576 with 2 Axes>"
      ]
     },
     "metadata": {
      "needs_background": "light"
     },
     "output_type": "display_data"
    }
   ],
   "source": [
    "# equal binned version\n",
    "\n",
    "# set up figure and panels\n",
    "fig = plt.figure(figsize=(8, 8))\n",
    "gs = fig.add_gridspec(2, 1, height_ratios=(2, 7),\n",
    "                      left=0.1, right=0.9, bottom=0.1, top=0.9,\n",
    "                      wspace=0.2, hspace=0.1)\n",
    "ax = fig.add_subplot(gs[1, 0])\n",
    "ax_hist = fig.add_subplot(gs[0, 0], sharex=ax)\n",
    "\n",
    "# maximum length, rounded up to the nearest bin size\n",
    "max_val = max(df_c[var])\n",
    "max_val = int(np.ceil(max_val/bin_size)*bin_size)\n",
    "max_val=300\n",
    "min_val = min(df_c[var])\n",
    "min_val = int(np.floor(min_val/bin_size)*bin_size)\n",
    "min_val=150\n",
    "\n",
    "bin_arr = np.arange(min_val, max_val, bin_size)\n",
    "\n",
    "for t in range(0, len(type)):\n",
    "    t_type = type[t] # trigger type chosen for this histogram\n",
    "    label = t_type + \"_fired\"\n",
    "    trig = df_c[df_c[label] == True]\n",
    "    notTrig = df_c[df_c[label] == False]\n",
    "    \n",
    "    # counts of triggered and not triggered events in the bin\n",
    "    bin_trig = [len(trig[(bin_arr[i]<=trig[var]) & (trig[var]<bin_arr[i]+bin_size)]) for i in range(len(bin_arr))]\n",
    "    bin_notTrig = [len(notTrig[(bin_arr[i]<=notTrig[var]) & (notTrig[var]<bin_arr[i]+bin_size)]) for i in range(len(bin_arr))]\n",
    "\n",
    "    # total number of events in the bin\n",
    "    bin_tot = np.add(bin_trig, bin_notTrig)\n",
    "    # adjust sizes of triggered, not triggered, and bin lists to eliminate bins with 0 events\n",
    "    bin_trig = [bin_trig[i] for i in range(len(bin_arr)) if bin_tot[i]!=0]\n",
    "    bin_notTrig = [bin_notTrig[i] for i in range(len(bin_arr)) if bin_tot[i]!=0]\n",
    "    bin_arr = [bin_arr[i] for i in range(len(bin_arr)) if bin_tot[i]!=0]\n",
    "    \n",
    "    # compute efficiency for each bin\n",
    "    eff_arr = np.divide(bin_trig, (np.add(bin_trig, bin_notTrig)))\n",
    "   \n",
    "    # compute errors corresponding to efficiency values using the exact Clopper-Pearson method\n",
    "    # use asymmetric error so that the error bars don't extend above 1\n",
    "    low_CI = [binom_int_low(bin_trig[i], bin_trig[i] + bin_notTrig[i]) for i in range(len(bin_trig))]\n",
    "    high_CI = [binom_int_high(bin_trig[i], bin_trig[i] + bin_notTrig[i]) for i in range(len(bin_trig))]\n",
    "    high_yerr_arr = np.subtract(high_CI, eff_arr)\n",
    "    low_yerr_arr = np.subtract(eff_arr, low_CI)\n",
    "    asymm_err = [low_yerr_arr, high_yerr_arr]\n",
    "    \n",
    "    # plot the error bars\n",
    "    ax.errorbar([(i+bin_size/2) for i in bin_arr], eff_arr, xerr = bin_size/2, yerr = asymm_err, label = t_type, fmt='o', color=color[t])\n",
    "# scatterplot axes labels and legend\n",
    "ax.legend(loc=\"lower right\")\n",
    "\n",
    "# DON'T FORGET TO UPDATE THIS\n",
    "ax.set_xlabel(var_label + var_units)\n",
    "ax.set_ylabel(\"Efficiency\")\n",
    "\n",
    "# plot title\n",
    "dir_rel_cathode = \", W of cathode\" if df_c.equals(df_west) else \", E of cathode\" if df_c.equals(df_east) else \"\"\n",
    "plt.title(\"Run 7232 cryostat \" + cryostat + dir_rel_cathode + \": emulated track triggering efficiency\")\n",
    "\n",
    "# plot the histogram of counts\n",
    "ax_hist.bar([(i+bin_size/2) for i in bin_arr], bin_tot, width=bin_size, color=color[4], log=True)\n",
    "ax_hist.set_ylabel(\"Number of Tracks\")\n",
    "ax.grid()\n",
    "\n",
    "ratio_val = '_ratio_x_'+str(-1*cutoff) if df_c.equals(df_west) else '_ratio_x_'+str(cutoff) if df_c.equals(df_east) else \"\"\n",
    "\n",
    "# show and save the figure\n",
    "plt.savefig('efficiency_plots/efficiency_'+var+'_7232mer'+cryostat+ratio_val+'_'+\"eff_drop_\"+str(conf)+'CI.pdf')\n",
    "plt.show()"
   ]
  },
  {
   "cell_type": "code",
   "execution_count": 1163,
   "id": "86ee51a6",
   "metadata": {
    "scrolled": false
   },
   "outputs": [
    {
     "data": {
      "image/png": "[encoded data removed]",
      "text/plain": [
       "<Figure size 576x576 with 2 Axes>"
      ]
     },
     "metadata": {
      "needs_background": "light"
     },
     "output_type": "display_data"
    }
   ],
   "source": [
    "# re-binning version\n",
    "\n",
    "fig = plt.figure(figsize=(8, 8))\n",
    "gs = fig.add_gridspec(2, 1, height_ratios=(2, 7),\n",
    "                      left=0.1, right=0.9, bottom=0.1, top=0.9,\n",
    "                      wspace=0.2, hspace=0.1)\n",
    "\n",
    "ax = fig.add_subplot(gs[1, 0])\n",
    "ax_hist = fig.add_subplot(gs[0, 0], sharex=ax)\n",
    "\n",
    "# CHANGE THIS FOR DESIRED VARIABLE\n",
    "bin_arr = [0, 1000, 2000, 3000, 4000, 6000, 8000] \n",
    "bin_size = np.append(np.ediff1d(bin_arr),2000) # add size of last bin here\n",
    "\n",
    "for t in range(0, len(type)):\n",
    "    t_type = type[t] # trigger type chosen for this histogram\n",
    "    label = t_type + \"_fired\"\n",
    "    trig = df_c[df_c[label] == True]\n",
    "    notTrig = df_c[df_c[label] == False]\n",
    "    \n",
    "    \n",
    "    # counts of triggered and not triggered events in the bin\n",
    "    bin_trig = [len(trig[(bin_arr[i]<=trig[var]) & (trig[var]<bin_arr[i]+bin_size[i])]) for i in range(len(bin_arr))]\n",
    "    bin_notTrig = [len(notTrig[(bin_arr[i]<=notTrig[var]) & (notTrig[var]<bin_arr[i]+bin_size[i])]) for i in range(len(bin_arr))]\n",
    "\n",
    "    # total number of events in the bin\n",
    "    bin_tot = np.add(bin_trig, bin_notTrig)\n",
    "    # adjust sizes of triggered, not triggered, and bin lists to eliminate bins with 0 events\n",
    "    bin_trig = [bin_trig[i] for i in range(len(bin_arr)) if bin_tot[i]!=0]\n",
    "    bin_notTrig = [bin_notTrig[i] for i in range(len(bin_arr)) if bin_tot[i]!=0]\n",
    "    bin_size = np.array([bin_size[i] for i in range(len(bin_arr)) if bin_tot[i]!=0])\n",
    "    bin_arr = [bin_arr[i] for i in range(len(bin_arr)) if bin_tot[i]!=0]\n",
    "\n",
    "    # compute efficiency for each bin\n",
    "    eff_arr = np.divide(bin_trig, (np.add(bin_trig, bin_notTrig)))\n",
    "   \n",
    "    # compute errors corresponding to efficiency values using the exact Clopper-Pearson method\n",
    "    # use asymmetric error so that the error bars don't extend above 1\n",
    "    low_CI = [binom_int_low(bin_trig[i], bin_trig[i] + bin_notTrig[i]) for i in range(len(bin_trig))]\n",
    "    high_CI = [binom_int_high(bin_trig[i], bin_trig[i] + bin_notTrig[i]) for i in range(len(bin_trig))]\n",
    "    high_yerr_arr = np.subtract(high_CI, eff_arr)\n",
    "    low_yerr_arr = np.subtract(eff_arr, low_CI)\n",
    "    asymm_err = [low_yerr_arr, high_yerr_arr]\n",
    "    \n",
    "    # plot the error bars\n",
    "    ax.errorbar([(bin_arr[i]+bin_size[i]/2)*1e-3 for i in range(len(bin_arr))], eff_arr, xerr = bin_size/2*1e-3, yerr = asymm_err, label = t_type, fmt='o', color=color[t])\n",
    "    \n",
    "# scatterplot axes labels and legend\n",
    "ax.legend(loc=\"lower right\")\n",
    "\n",
    "# DON'T FORGET TO UPDATE THIS\n",
    "ax.set_xlabel(var_label + \" \" + var_units)\n",
    "ax.set_ylabel(\"Efficiency\")\n",
    "\n",
    "# plot title\n",
    "dir_rel_cathode = \", W of cathode\" if df_c.equals(df_west) else \", E of cathode\" if df_c.equals(df_east) else \"\"\n",
    "plt.title(\"Run 7232 cryostat \" + cryostat + dir_rel_cathode + \": emulated track triggering efficiency\")\n",
    "\n",
    "# plot the histogram of counts\n",
    "ax_hist.bar([(bin_arr[i]+bin_size[i]/2)*1e-3 for i in range(len(bin_arr))], bin_tot, width=bin_size*1e-3, color=color[4], log=True)\n",
    "ax_hist.set_ylabel(\"Number of Tracks\")\n",
    "ax.grid()\n",
    "\n",
    "ratio_val = '_ratio_x_'+str(-1*cutoff) if df_c.equals(df_west) else '_ratio_x_'+str(cutoff) if df_c.equals(df_east) else \"\"\n",
    "\n",
    "# show and save the figure\n",
    "plt.savefig('efficiency_plots/efficiency_'+var+'_7232mer'+cryostat+ratio_val+'_'+str(conf)+'CI.pdf')\n",
    "plt.show()"
   ]
  },
  {
   "cell_type": "markdown",
   "id": "2572985c",
   "metadata": {},
   "source": [
    "# Histograms"
   ]
  },
  {
   "cell_type": "code",
   "execution_count": 946,
   "id": "4c13bdc1",
   "metadata": {},
   "outputs": [
    {
     "data": {
      "text/plain": [
       "<BarContainer object of 10 artists>"
      ]
     },
     "execution_count": 946,
     "metadata": {},
     "output_type": "execute_result"
    },
    {
     "data": {
      "image/png": "[encoded data removed]",
      "text/plain": [
       "<Figure size 432x288 with 1 Axes>"
      ]
     },
     "metadata": {
      "needs_background": "light"
     },
     "output_type": "display_data"
    }
   ],
   "source": [
    "# make histogram of triggered v. non-triggered counts by length bins\n",
    "t_type = \"S15\" # trigger type chosen for this histogram\n",
    "label = t_type + \"_fired\"\n",
    "trig = df_u[df_u[label] == True]\n",
    "notTrig = df_u[df_u[label] == False]\n",
    "\n",
    "var = \"t0\"\n",
    "fig, ax = plt.subplots()\n",
    "\n",
    "trig_heights, trig_bins = np.histogram(trig[var])\n",
    "notTrig_heights, notTrig_bins = np.histogram(notTrig[var], bins=trig_bins)\n",
    "\n",
    "\n",
    "width = (trig_bins[1] - trig_bins[0])/3\n",
    "\n",
    "ax.bar(trig_bins[:-1], trig_heights, width=width, facecolor='cornflowerblue')\n",
    "ax.bar(notTrig_bins[:-1]+width, notTrig_heights, width=width, facecolor='seagreen')"
   ]
  },
  {
   "cell_type": "code",
   "execution_count": 878,
   "id": "ac3d55ec",
   "metadata": {
    "scrolled": true
   },
   "outputs": [
    {
     "name": "stdout",
     "output_type": "stream",
     "text": [
      "1.0732389688491821 412.0295715332031\n",
      "0\n",
      "316825\n"
     ]
    },
    {
     "data": {
      "image/png": "[encoded data removed]",
      "text/plain": [
       "<Figure size 432x288 with 1 Axes>"
      ]
     },
     "metadata": {
      "needs_background": "light"
     },
     "output_type": "display_data"
    }
   ],
   "source": [
    "var = 'end_x'\n",
    "print(min(df_u[var]), max(df_u[var]))\n",
    "print(len(df_u[(500<=df_u[var]) & (df_u[var]<=max(df_u[var]))]))\n",
    "print(len(df_u[var]))\n",
    "\n",
    "\n",
    "fig, ax = plt.subplots()\n",
    "\n",
    "df_M1 = df_u[df_u['M1_fired']]\n",
    "diff = df_M1['M1_time']-df_M1['t0']-1500 # 20 microsecond range, emulation only considers 20 us around track time for trigger\n",
    "# electronics time starts 1500 us before trigger, fixed\n",
    "# t0 time bigger, time alignment not great\n",
    "# evaluate trigger before t0 because of time offsets\n",
    "# np.mean(diff) # avg delay b/w\n",
    "diff.hist(bins=100)\n",
    "\n",
    "ax.set_xlabel(\"Time difference between emulated trigger and t0\")\n",
    "ax.set_ylabel(\"Number of M1 Triggered Tracks\")\n",
    "\n",
    "# plot title\n",
    "plt.title(\"Run 7232 cryostat W: emulated track triggering time delay\")\n",
    "plt.savefig('other_plots/hist_M1time-t0_7232merW.pdf') # can powerpoint import pdf?"
   ]
  },
  {
   "cell_type": "code",
   "execution_count": 745,
   "id": "3694ea1e",
   "metadata": {
    "scrolled": true
   },
   "outputs": [
    {
     "name": "stdout",
     "output_type": "stream",
     "text": [
      "-435.5328063964844 -26.814603805541992\n",
      "0\n",
      "251891\n"
     ]
    },
    {
     "data": {
      "image/png": "[encoded data removed]",
      "text/plain": [
       "<Figure size 432x288 with 1 Axes>"
      ]
     },
     "metadata": {
      "needs_background": "light"
     },
     "output_type": "display_data"
    }
   ],
   "source": [
    "var = 'end_x'\n",
    "print(min(df_u[var]), max(df_u[var]))\n",
    "print(len(df_u[(500<=df_u[var]) & (df_u[var]<=max(df_u[var]))]))\n",
    "print(len(df_u[var]))\n",
    "\n",
    "\n",
    "fig, ax = plt.subplots()\n",
    "\n",
    "arr = df_time[var]\n",
    "arr.hist(bins=100, range=(-250, -200))\n",
    "\n",
    "\n",
    "\n",
    "ax.set_xlabel(\"End x-position of Track (cm)\")\n",
    "ax.set_ylabel(\"Number of M1 Triggered Tracks\")\n",
    "\n",
    "# plot title\n",
    "plt.title(\"Run 7232 cryostat W: track end x-positions\")\n",
    "plt.savefig('other_plots/hist_end_x_7232merW.pdf')"
   ]
  },
  {
   "cell_type": "code",
   "execution_count": 897,
   "id": "fc4cc1a9",
   "metadata": {},
   "outputs": [
    {
     "name": "stdout",
     "output_type": "stream",
     "text": [
      "138.25186290895664\n"
     ]
    },
    {
     "data": {
      "image/png": "[encoded data removed]",
      "text/plain": [
       "<Figure size 432x288 with 1 Axes>"
      ]
     },
     "metadata": {
      "needs_background": "light"
     },
     "output_type": "display_data"
    }
   ],
   "source": [
    "fig, ax = plt.subplots()\n",
    "diff = df_u['triggerTime']-df_u['beamGateTime']\n",
    "diff.hist(bins=32)\n",
    "print(np.mean(diff))\n",
    "ax.set_ylabel(\"Number of Tracks\")\n",
    "ax.set_xlabel(\"Time difference (ns)\")\n",
    "ax.set_title(\"Run 7232 cryostat E: difference between trigger and beamgate times\")\n",
    "plt.savefig('other_plots/hist_trig-beamgate_7232merE.pdf', bbox_inches='tight')"
   ]
  },
  {
   "cell_type": "code",
   "execution_count": 284,
   "id": "3ce1a9c6",
   "metadata": {
    "scrolled": true
   },
   "outputs": [
    {
     "name": "stdout",
     "output_type": "stream",
     "text": [
      "1638311234.6799462\n",
      "0.000355328\n",
      "22237.807468288\n"
     ]
    },
    {
     "data": {
      "text/plain": [
       "Text(0.5, 1.0, 'Run 7232 cryostat W: emulated track triggering efficiency')"
      ]
     },
     "execution_count": 284,
     "metadata": {},
     "output_type": "execute_result"
    },
    {
     "data": {
      "image/png": "[encoded data removed]",
      "text/plain": [
       "<Figure size 432x288 with 1 Axes>"
      ]
     },
     "metadata": {
      "needs_background": "light"
     },
     "output_type": "display_data"
    }
   ],
   "source": [
    "# histogram of difference between triggerTime and t0 for all tracks\n",
    "# not sure if I'm doing this right...\n",
    "\n",
    "var1 = \"triggerTime\" # in nanoseconds\n",
    "var2 = \"t0\" # in microseconds\n",
    "fig, ax = plt.subplots()\n",
    "print(min(df_u[var1])*1e-9)\n",
    "diff = (df_u[var1]-(df_u[var2]*1e3)-min(df_u[var1]))*1e-9\n",
    "print(min(diff))\n",
    "print(max(diff))\n",
    "heights, bins = np.histogram(diff, bins=100, range=(-1e3, max(diff)+1e3))\n",
    "\n",
    "width = (bins[1] - bins[0])\n",
    "\n",
    "ax.bar(bins[:-1], heights, width=width, facecolor='cornflowerblue')\n",
    "ax.set_xlabel(\"Time Difference (s)\")\n",
    "ax.set_ylabel(\"Number of Tracks\")\n",
    "plt.title(\"Run 7232 cryostat W: emulated track triggering efficiency\")"
   ]
  },
  {
   "cell_type": "code",
   "execution_count": 36,
   "id": "4b9685e7",
   "metadata": {},
   "outputs": [
    {
     "name": "stdout",
     "output_type": "stream",
     "text": [
      "26 45 76 169 212 285\n"
     ]
    }
   ],
   "source": [
    "bw = df_time[df_time['length'].between(0, 100)]\n",
    "bwm1 = len(bw[bw[\"M1_fired\"]==False])\n",
    "bws3 = len(bw[bw[\"S3_fired\"]==False])\n",
    "bws5 = len(bw[bw[\"S5_fired\"]==False])\n",
    "bws8 = len(bw[bw[\"S8_fired\"]==False])\n",
    "bws10 = len(bw[bw[\"S10_fired\"]==False])\n",
    "bws15 = len(bw[bw[\"S15_fired\"]==False])\n",
    "print(bwm1, bws3, bws5, bws8, bws10, bws15)"
   ]
  },
  {
   "cell_type": "markdown",
   "id": "ea6a2743",
   "metadata": {},
   "source": [
    "# To-do Lists"
   ]
  },
  {
   "cell_type": "markdown",
   "id": "81036d28",
   "metadata": {},
   "source": [
    "## 6/28 To-do:\n",
    "1. how many tracks do we have? ✅\n",
    "\n",
    "2. change column names ✅\n",
    "\n",
    "3. make histograms of total number of tracks per length & ones that triggered/didn't ✅\n",
    "\n",
    "4. draw an efficiency vs track length plot ✅\n",
    "    - efficiency is w/ triggered data\n",
    "    - F in denom, T in num & denom\n",
    "    - don't hardcode trigger settings\n",
    "    - Error bars:\n",
    "        - binomial dist for errors\n",
    "        - cases with only 1 track / 100% efficiency handle error separately\n",
    "        - root TEfficiency for errors? consider\n",
    "        \n",
    "~~Problem~~: Why are my efficiencies all so small (<0.2)? Do I need to only count those tracks that occur within some trigger time? What variable is that? Choosing only t0 within -70 to 70 gives efficiencies ~50% for all lengths, so that doesn't seem like the right choice\n",
    "\n",
    "Efficiency formula:\n",
    "\n",
    "e = $\\frac{\\textrm{(TPC tracks with CRT hit and with light info)} × \\textrm{(which would fire the trigger)}}{\\textrm{(TPC tracks with CRT hit and with light info)}}$ = $\\frac{\\textrm{Track in df_time that triggered}}{\\textrm{Track in df_time (triggered or not)}}$\n",
    "\n",
    "df_time is the variation of the original dataset that eliminates the subentries column (and hence duplicate rows from the same event) and only keeps rows with t0 between -55 and 55 (for this minimum bias run with 150 µs of recording time, and so these are the only possible times during which triggering can happen, adding some buffer). "
   ]
  },
  {
   "cell_type": "markdown",
   "id": "ff018540",
   "metadata": {},
   "source": [
    "## 6/29 To-do:\n",
    "1. offset between trigger time and track time? emulated trigger centers on track of time ✅\n",
    "    - imposing a bias, should find trigger time is never more than so much away from time of track\n",
    "    - not sure I did it right - got a range of about 1 million seconds which seems like a lot...?\n",
    "2. efficiency v. other variables ✅\n",
    "    - energy is weird though - there's a ton of very low energy tracks and very few high energy ones, spread over a very large range from about 10kJ to about 1.5MJ - I chose to only consider up to 10kJ which I think captures most of the tracks - 23427 out of 23899 events are captured in the plot.\n",
    "3. compare with jacob's plot ✅\n",
    "    - not sure exactly what statistical model jacob used but the recommended Clopper-Pearson interval got me pretty close\n",
    "4. check root documentation for error inspiration for when error is 0 - TEfficiency documentation ✅\n",
    "    - clopper-pearson exact interval was recommended so I used that\n",
    "5. store data in git repository ✅\n",
    "6. include histogram of number of tracks in each bin ✅"
   ]
  },
  {
   "cell_type": "markdown",
   "id": "e401aafc",
   "metadata": {},
   "source": [
    "## 6/30 To-do:\n",
    "1. consider trigger efficiency as a function of x ✅\n",
    "    - tried start and end x, they look really similar\n",
    "    - both are bimodal, highest efficiency around x=100 & x=300\n",
    "2. plot trigger efficiency as a function of z ✅\n",
    "    - overall more efficient closer to z=0\n",
    "3. plot trigger efficiency as function of the balance of energy deposition on the two sides of the cathode - tomorrow ✅\n",
    "    - what data to use?\n",
    "    - use start + end positions of track & assume straight line - then, need to know cathode x position\n",
    "        - then assume constant dE/dx ≈ 2.2 for energy deposition estimate on either side of cathode\n",
    "    - use ratio of energy deposition $\\frac{\\textrm{Energy deposition of track section with } x > x_\\textrm{cathode}}{\\textrm{Energy deposition of track section with } x < x_\\textrm{cathode}}$ as variable?\n",
    "4. prepare a first report of the work I have done so far in the form of slides for a presentation -- the standard form includes motivation, methodology and results ✅\n",
    "5. clarify offset in trigger time & t0 from yesterday - weird results ✅\n",
    "    - figure out first peak in M1_time - t0 histogram"
   ]
  },
  {
   "cell_type": "markdown",
   "id": "fb382294",
   "metadata": {},
   "source": [
    "## 7/1 To-do:\n",
    "1. plot trigger efficiency as function of the balance of energy deposition on the two sides of the cathode (simplified version to start) ✅\n",
    "    - don't have dQ/dx data and cathode intersection location not yet in the tree\n",
    "    - use ratio of distance of track endpoints from cathode $\\frac{\\textrm{Distance from cathode of track endpoint with } x > x_\\textrm{cathode}}{\\textrm{Distance from cathode of track endpoint with } x < x_\\textrm{cathode}}$ as variable\n",
    "        - get $x_\\textrm{cathode}$ from the distribution of x - look at histogram\n",
    "            - CONFUSION - there doesn't seem to be a single cathode value such that all the tracks cross it...\n",
    "        - if mixing east and west cryostats (which I wasn't) then remember there are two different cathodes\n",
    "2. add this exploration to the presentation ✅"
   ]
  },
  {
   "cell_type": "markdown",
   "id": "54125f8a",
   "metadata": {},
   "source": [
    "## 7/5 To-do:\n",
    "1. repeat all plots with cryostat E data from run 7232 ✅\n",
    "    - for the ratio, added a - sign to keep with convention from cryostat W (1 means East of cathode, -1 means West of cathode)\n",
    "2. fix backwards East/West in above plots ✅\n",
    "3. automate naming of stuff in code to make running easier ✅\n",
    "4. zoom in on drop in efficiency for length w/ E and W cryostats ✅\n",
    "5. Fix powerpoint to have side-by-side comparisons for E & W cryostats"
   ]
  },
  {
   "cell_type": "code",
   "execution_count": null,
   "id": "208779a5",
   "metadata": {},
   "outputs": [],
   "source": []
  }
 ],
 "metadata": {
  "kernelspec": {
   "display_name": "Python 3 (ipykernel)",
   "language": "python",
   "name": "python3"
  },
  "language_info": {
   "codemirror_mode": {
    "name": "ipython",
    "version": 3
   },
   "file_extension": ".py",
   "mimetype": "text/x-python",
   "name": "python",
   "nbconvert_exporter": "python",
   "pygments_lexer": "ipython3",
   "version": "3.9.12"
  }
 },
 "nbformat": 4,
 "nbformat_minor": 5
}
